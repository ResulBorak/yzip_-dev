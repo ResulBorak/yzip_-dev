{
 "cells": [
  {
   "cell_type": "code",
   "execution_count": 3,
   "id": "4ac7dd5f-c4e3-41b5-adf8-dc9b4d70f914",
   "metadata": {},
   "outputs": [],
   "source": [
    "import numpy as np\n",
    "import pandas as pd"
   ]
  },
  {
   "cell_type": "code",
   "execution_count": 83,
   "id": "d6b81bdb-c703-4274-b416-4d83a88e0b66",
   "metadata": {},
   "outputs": [
    {
     "name": "stdout",
     "output_type": "stream",
     "text": [
      "Collecting pandas\n",
      "  Using cached pandas-2.2.3-cp39-cp39-win_amd64.whl.metadata (19 kB)\n",
      "Requirement already satisfied: numpy>=1.22.4 in c:\\users\\rrslb\\miniconda3\\envs\\numpy_examples\\lib\\site-packages (from pandas) (2.0.2)\n",
      "Requirement already satisfied: python-dateutil>=2.8.2 in c:\\users\\rrslb\\miniconda3\\envs\\numpy_examples\\lib\\site-packages (from pandas) (2.9.0.post0)\n",
      "Collecting pytz>=2020.1 (from pandas)\n",
      "  Using cached pytz-2025.1-py2.py3-none-any.whl.metadata (22 kB)\n",
      "Collecting tzdata>=2022.7 (from pandas)\n",
      "  Using cached tzdata-2025.1-py2.py3-none-any.whl.metadata (1.4 kB)\n",
      "Requirement already satisfied: six>=1.5 in c:\\users\\rrslb\\miniconda3\\envs\\numpy_examples\\lib\\site-packages (from python-dateutil>=2.8.2->pandas) (1.17.0)\n",
      "Using cached pandas-2.2.3-cp39-cp39-win_amd64.whl (11.6 MB)\n",
      "Using cached pytz-2025.1-py2.py3-none-any.whl (507 kB)\n",
      "Using cached tzdata-2025.1-py2.py3-none-any.whl (346 kB)\n",
      "Installing collected packages: pytz, tzdata, pandas\n",
      "Successfully installed pandas-2.2.3 pytz-2025.1 tzdata-2025.1\n"
     ]
    }
   ],
   "source": [
    "!pip install pandas"
   ]
  },
  {
   "cell_type": "markdown",
   "id": "2b4fa556-61dc-43c3-be3c-6cd7987eca77",
   "metadata": {},
   "source": [
    "## DİZİ KULLANIMI (Array Usage)"
   ]
  },
  {
   "cell_type": "markdown",
   "id": "468b7171-fb8c-49b9-93f5-d8cf801f9c9d",
   "metadata": {},
   "source": [
    "## 1)Dizi oluşturma( np.array() )"
   ]
  },
  {
   "cell_type": "markdown",
   "id": "9c48cdf3-2bd7-4825-912f-d654d03f1319",
   "metadata": {},
   "source": [
    "--Python’daki listeleri NumPy dizisine çevirmek için np.array() fonksiyonu kullanılır."
   ]
  },
  {
   "cell_type": "code",
   "execution_count": 27,
   "id": "e905cde2-eafb-4904-9e0a-265511c1f524",
   "metadata": {},
   "outputs": [
    {
     "data": {
      "text/plain": [
       "array([1, 2, 3, 4, 5])"
      ]
     },
     "execution_count": 27,
     "metadata": {},
     "output_type": "execute_result"
    }
   ],
   "source": [
    "py_list = [1,2,3,4,5]\n",
    "\n",
    "np_array = np.array(py_list)\n",
    "np_array"
   ]
  },
  {
   "cell_type": "code",
   "execution_count": 28,
   "id": "c27534c1-32cc-4499-abe3-6f252e312e6e",
   "metadata": {},
   "outputs": [
    {
     "data": {
      "text/plain": [
       "(list, numpy.ndarray)"
      ]
     },
     "execution_count": 28,
     "metadata": {},
     "output_type": "execute_result"
    }
   ],
   "source": [
    "type(py_list), type(np_array)"
   ]
  },
  {
   "cell_type": "markdown",
   "id": "8136aa75-be94-4644-8992-c069c25792c1",
   "metadata": {},
   "source": [
    "--NumPy dizileri, Python listelerine göre daha hızlı çalışır ve daha az bellek kullanır."
   ]
  },
  {
   "cell_type": "markdown",
   "id": "fe9a7e15-4004-42b8-89c4-bad0ff57b556",
   "metadata": {},
   "source": [
    "### Sıfırlardan Oluşan Dizi ( np.zeros() )"
   ]
  },
  {
   "cell_type": "markdown",
   "id": "e848fb32-1e78-493e-ab78-fe9a90f08dbd",
   "metadata": {},
   "source": [
    "--np.zeros() fonksiyonu, istenilen boyutta tüm elemanları 0 olan bir NumPy dizisi oluşturur."
   ]
  },
  {
   "cell_type": "code",
   "execution_count": 46,
   "id": "fbcbf001-fd9e-4ffe-81c7-11866ff458dc",
   "metadata": {},
   "outputs": [
    {
     "name": "stdout",
     "output_type": "stream",
     "text": [
      "[[0. 0. 0.]\n",
      " [0. 0. 0.]\n",
      " [0. 0. 0.]]\n"
     ]
    }
   ],
   "source": [
    "zeros = np.zeros((3,3))  # 3x3 boyutunda sıfır matrisi\n",
    "print(zeros)"
   ]
  },
  {
   "cell_type": "markdown",
   "id": "0c116fed-5923-4d28-8f08-556d451166b3",
   "metadata": {},
   "source": [
    "### Birlerden Oluşan Dizi ( np.ones() )"
   ]
  },
  {
   "cell_type": "markdown",
   "id": "b9f70da2-3fa7-4959-9b22-0907a4002562",
   "metadata": {},
   "source": [
    "--np.ones() fonksiyonu, istenilen boyutta tüm elemanları 1 olan bir NumPy dizisi oluşturur."
   ]
  },
  {
   "cell_type": "code",
   "execution_count": 48,
   "id": "490630d9-77d4-4b64-8642-3802623afe22",
   "metadata": {},
   "outputs": [
    {
     "name": "stdout",
     "output_type": "stream",
     "text": [
      "[[1. 1. 1. 1.]\n",
      " [1. 1. 1. 1.]]\n"
     ]
    }
   ],
   "source": [
    "ones = np.ones((2,4))  # 2x4 boyutunda bir matrisi\n",
    "print(ones)"
   ]
  },
  {
   "cell_type": "markdown",
   "id": "67cc9d51-ecce-4ad8-9489-762a23a8b95e",
   "metadata": {},
   "source": [
    "### Belirtilen Aralıkta Sayılarla Dizi ( np.arange() )"
   ]
  },
  {
   "cell_type": "markdown",
   "id": "1a4f27bd-8e4e-437a-920c-a565b652c7a5",
   "metadata": {},
   "source": [
    "--np.arange() fonksiyonu, belirli bir başlangıç, bitiş ve adım değerine göre dizi oluşturur."
   ]
  },
  {
   "cell_type": "code",
   "execution_count": 49,
   "id": "71122f79-ef82-4b05-aa39-15fcb58ad49a",
   "metadata": {},
   "outputs": [
    {
     "name": "stdout",
     "output_type": "stream",
     "text": [
      "[0 2 4 6 8]\n"
     ]
    }
   ],
   "source": [
    "arange_array = np.arange(0, 10, 2)  # 0'dan 10'a kadar 2 artarak git # 0 dahil edilir 10 dahil edilmez\n",
    "print(arange_array)"
   ]
  },
  {
   "cell_type": "markdown",
   "id": "42c41bb7-ddce-44dc-a6c7-dc1e6cabe174",
   "metadata": {},
   "source": [
    "### Belirtilen Aralığı Eşit Parçaya Bölme ( np.linspace() )"
   ]
  },
  {
   "cell_type": "markdown",
   "id": "abee4f69-f7d9-497d-8e77-a7e370d0e5f0",
   "metadata": {},
   "source": [
    "--np.linspace() fonksiyonu, başlangıç ve bitiş noktaları arasında eşit aralıklarla belirtilen sayıda değer oluşturur."
   ]
  },
  {
   "cell_type": "code",
   "execution_count": 55,
   "id": "0a922a19-eb51-4f94-bf4d-30e821d791d5",
   "metadata": {},
   "outputs": [
    {
     "name": "stdout",
     "output_type": "stream",
     "text": [
      "[ 0.   2.5  5.   7.5 10. ]\n"
     ]
    }
   ],
   "source": [
    "linspace_array = np.linspace(0,10,5) # 0 ile 10 arasında 5 eşit aralıklı sayı\n",
    "print(linspace_array)"
   ]
  },
  {
   "cell_type": "markdown",
   "id": "465a797c-aa77-47b3-ac73-c02912d36914",
   "metadata": {},
   "source": [
    "## 2)NumPy’de Temel İşlemler"
   ]
  },
  {
   "cell_type": "markdown",
   "id": "c6cfe5d1-eaa6-4390-acc6-37d155006134",
   "metadata": {},
   "source": [
    "### Toplama İşlemi (+)"
   ]
  },
  {
   "cell_type": "code",
   "execution_count": 60,
   "id": "c72d840d-8fdc-4ef2-b27b-8865c1975c54",
   "metadata": {},
   "outputs": [
    {
     "name": "stdout",
     "output_type": "stream",
     "text": [
      "[3 4 5 6 7]\n"
     ]
    }
   ],
   "source": [
    "arr = np.array([1, 2, 3, 4, 5])\n",
    "\n",
    "# Her elemana 2 ekleme\n",
    "result = arr + 2\n",
    "print(result)"
   ]
  },
  {
   "cell_type": "markdown",
   "id": "0232b6ea-fefb-4035-9644-900f22d00c98",
   "metadata": {},
   "source": [
    "## Çıkarma İşlemi (-)"
   ]
  },
  {
   "cell_type": "code",
   "execution_count": 62,
   "id": "d636ca89-d7fb-4dcb-9f86-c7107c86d331",
   "metadata": {},
   "outputs": [
    {
     "name": "stdout",
     "output_type": "stream",
     "text": [
      "[-1  0  1  2  3]\n"
     ]
    }
   ],
   "source": [
    "arr = np.array([1, 2, 3, 4, 5])\n",
    "\n",
    "# Her elemandan 2 çıkarma\n",
    "result = arr - 2\n",
    "print(result)"
   ]
  },
  {
   "cell_type": "markdown",
   "id": "837035fe-f4c9-44fc-8fc6-d3fdfa220bae",
   "metadata": {},
   "source": [
    "## Çarpma İşlemi (*)"
   ]
  },
  {
   "cell_type": "code",
   "execution_count": 63,
   "id": "b9d6fb98-9a82-4d0a-b8f7-83624c40ac98",
   "metadata": {},
   "outputs": [
    {
     "name": "stdout",
     "output_type": "stream",
     "text": [
      "[ 2  4  6  8 10]\n"
     ]
    }
   ],
   "source": [
    "arr = np.array([1, 2, 3, 4, 5])\n",
    "\n",
    "# Her elemanı 2 ile çarpma\n",
    "result = arr * 2\n",
    "print(result)"
   ]
  },
  {
   "cell_type": "markdown",
   "id": "1adc12b0-75a8-4915-ac6c-57b7b7d8e763",
   "metadata": {},
   "source": [
    "## Bölme İşlemi(/)"
   ]
  },
  {
   "cell_type": "code",
   "execution_count": 65,
   "id": "9799d6aa-27e0-4bbb-a18c-2d78b7550f73",
   "metadata": {},
   "outputs": [
    {
     "name": "stdout",
     "output_type": "stream",
     "text": [
      "[0.5 1.  1.5 2.  2.5]\n"
     ]
    }
   ],
   "source": [
    "arr = np.array([1,2,3,4,5])\n",
    "\n",
    "# Her elemanı 2'ye bölme\n",
    "result = arr / 2\n",
    "print(result)"
   ]
  },
  {
   "cell_type": "markdown",
   "id": "eb1a383b-620f-4d55-aca2-8d3b9e7dda2e",
   "metadata": {},
   "source": [
    "## Üs Alma İşlemi (**)"
   ]
  },
  {
   "cell_type": "code",
   "execution_count": 66,
   "id": "6644006a-9cc9-41e1-89b3-9884b9f6d6a5",
   "metadata": {},
   "outputs": [
    {
     "name": "stdout",
     "output_type": "stream",
     "text": [
      "[  1   8  27  64 125]\n"
     ]
    }
   ],
   "source": [
    "arr = np.array([1,2,3,4,5])\n",
    "\n",
    "# Her elemanın 3 üssünü alma\n",
    "result = arr ** 3\n",
    "print(result)"
   ]
  },
  {
   "cell_type": "markdown",
   "id": "67e831b6-0591-448c-aecb-1e3445feccdb",
   "metadata": {},
   "source": [
    "## Mod Alma İşlemi (%)"
   ]
  },
  {
   "cell_type": "code",
   "execution_count": 67,
   "id": "0de09b8f-9635-4ceb-84a8-254753a0c517",
   "metadata": {},
   "outputs": [
    {
     "name": "stdout",
     "output_type": "stream",
     "text": [
      "[1 0 1 0 1]\n"
     ]
    }
   ],
   "source": [
    "arr = np.array([1,2,3,4,5])\n",
    "\n",
    "# Her elemanın 2'yle bölümünden kalanı bulma\n",
    "result = arr % 2\n",
    "print(result)"
   ]
  },
  {
   "cell_type": "markdown",
   "id": "15917ca5-7ee2-4dc4-84a3-f606219544df",
   "metadata": {},
   "source": [
    "## Mutlak Değer (np.abs())"
   ]
  },
  {
   "cell_type": "code",
   "execution_count": 68,
   "id": "3917e53f-ff85-4ebe-81e7-6a1161394e02",
   "metadata": {},
   "outputs": [
    {
     "name": "stdout",
     "output_type": "stream",
     "text": [
      "[1 2 3 4 5]\n"
     ]
    }
   ],
   "source": [
    "arr = np.array([-1, -2, 3, -4, 5])\n",
    "\n",
    "# Negatif sayıları pozitif yapma\n",
    "result = np.abs(arr)\n",
    "print(result)"
   ]
  },
  {
   "cell_type": "markdown",
   "id": "88746333-956d-4bc0-96be-d75f61e507e9",
   "metadata": {},
   "source": [
    "## Karşılaştırma İşlemleri "
   ]
  },
  {
   "cell_type": "code",
   "execution_count": null,
   "id": "f6ec8fe8-0f66-4c3d-ab81-8d2df4a073b5",
   "metadata": {},
   "outputs": [
    {
     "name": "stdout",
     "output_type": "stream",
     "text": [
      "[False False  True  True  True]\n"
     ]
    }
   ],
   "source": [
    "arr = np.array([10, 20, 30, 40, 50])\n",
    "\n",
    "# 25'ten büyük olanları bul\n",
    "result = arr > 25\n",
    "print(result)"
   ]
  },
  {
   "cell_type": "markdown",
   "id": "50ac50a3-8278-4117-8d35-6aa1071b6468",
   "metadata": {},
   "source": [
    "## Matematiksel Fonksiyonlar"
   ]
  },
  {
   "cell_type": "code",
   "execution_count": 77,
   "id": "904ebc8d-bf78-4875-9082-9cd5e1720200",
   "metadata": {},
   "outputs": [
    {
     "data": {
      "text/plain": [
       "np.float64(14.142135623730951)"
      ]
     },
     "execution_count": 77,
     "metadata": {},
     "output_type": "execute_result"
    }
   ],
   "source": [
    "np.sqrt(arr)   # Karekök\n",
    "np.exp(arr)    # Üstel (e^x)\n",
    "np.log(arr)    # Doğal logaritma (ln)\n",
    "np.sin(arr)    # Sinüs\n",
    "np.cos(arr)    # Kosinüs\n",
    "np.sum(arr)    # Toplam\n",
    "np.mean(arr)   # Ortalama\n",
    "np.median(arr) # Medyan\n",
    "np.std(arr)    # Standart Sapma"
   ]
  },
  {
   "cell_type": "markdown",
   "id": "5426a60f-e708-4961-bda6-c263354bab8b",
   "metadata": {},
   "source": [
    "## 3) Dizi Şekillendirme "
   ]
  },
  {
   "cell_type": "markdown",
   "id": "3e31748b-22db-424c-acef-e47651ef7949",
   "metadata": {},
   "source": [
    "### Yeniden Şekillendirme (np.reshape())"
   ]
  },
  {
   "cell_type": "markdown",
   "id": "93a0e68f-246e-4aa8-9ddf-28b748fa6507",
   "metadata": {},
   "source": [
    "--Bir NumPy dizisinin boyutlarını değiştirmek için reshape() fonksiyonu kullanılır."
   ]
  },
  {
   "cell_type": "code",
   "execution_count": 90,
   "id": "50106667-fd5f-4263-b9cf-6b08f27fb991",
   "metadata": {},
   "outputs": [
    {
     "data": {
      "text/html": [
       "<div>\n",
       "<style scoped>\n",
       "    .dataframe tbody tr th:only-of-type {\n",
       "        vertical-align: middle;\n",
       "    }\n",
       "\n",
       "    .dataframe tbody tr th {\n",
       "        vertical-align: top;\n",
       "    }\n",
       "\n",
       "    .dataframe thead th {\n",
       "        text-align: right;\n",
       "    }\n",
       "</style>\n",
       "<table border=\"1\" class=\"dataframe\">\n",
       "  <thead>\n",
       "    <tr style=\"text-align: right;\">\n",
       "      <th></th>\n",
       "      <th>0</th>\n",
       "      <th>1</th>\n",
       "      <th>2</th>\n",
       "    </tr>\n",
       "  </thead>\n",
       "  <tbody>\n",
       "    <tr>\n",
       "      <th>0</th>\n",
       "      <td>1</td>\n",
       "      <td>2</td>\n",
       "      <td>3</td>\n",
       "    </tr>\n",
       "    <tr>\n",
       "      <th>1</th>\n",
       "      <td>4</td>\n",
       "      <td>5</td>\n",
       "      <td>6</td>\n",
       "    </tr>\n",
       "  </tbody>\n",
       "</table>\n",
       "</div>"
      ],
      "text/plain": [
       "   0  1  2\n",
       "0  1  2  3\n",
       "1  4  5  6"
      ]
     },
     "execution_count": 90,
     "metadata": {},
     "output_type": "execute_result"
    }
   ],
   "source": [
    "arr = np.array([1, 2, 3, 4, 5, 6])\n",
    "\n",
    "# 2 satır, 3 sütunluk bir matrise dönüştürme\n",
    "reshaped = arr.reshape((2, 3))\n",
    "\n",
    "pd.DataFrame(reshaped)"
   ]
  },
  {
   "cell_type": "markdown",
   "id": "5354f6bf-ac1f-4350-aada-71452dad29c0",
   "metadata": {},
   "source": [
    "--Dizinin eleman sayısı değiştirilemez. Yani (2,3) boyutuna çevirdiğimizde 6 eleman olmalıdır."
   ]
  },
  {
   "cell_type": "markdown",
   "id": "789e9233-df4e-47c7-ac06-635153ef41ae",
   "metadata": {},
   "source": [
    "## Düzleştirme (flatten())"
   ]
  },
  {
   "cell_type": "markdown",
   "id": "62ad4ed7-fbeb-47dd-97b8-3514d6399710",
   "metadata": {},
   "source": [
    "--Çok boyutlu bir diziyi tek boyutlu hale getirmek için kullanılır."
   ]
  },
  {
   "cell_type": "code",
   "execution_count": null,
   "id": "39212463-b02a-4ff3-8c78-dc58eca58c2b",
   "metadata": {},
   "outputs": [
    {
     "name": "stdout",
     "output_type": "stream",
     "text": [
      "[1 2 3 4 5 6]\n"
     ]
    }
   ],
   "source": [
    "arr = np.array([[1,2,3], [4,5,6] [7,8,9]])\n",
    "\n",
    "flattened_arr = arr.flatten()\n",
    "print(flattened_arr)"
   ]
  },
  {
   "cell_type": "markdown",
   "id": "727ba42c-8735-4f49-b19b-c5c7d2bc31c7",
   "metadata": {},
   "source": [
    "##  Boyut Eklemek ((np.expand_dims())"
   ]
  },
  {
   "cell_type": "markdown",
   "id": "35ef4bb6-d327-46ed-b547-668d77fa1487",
   "metadata": {},
   "source": [
    "--Var olan bir dizinin boyutunu artırmak için expand_dims() fonksiyonu kullanılır."
   ]
  },
  {
   "cell_type": "code",
   "execution_count": 12,
   "id": "c266f716-196a-45c7-b823-a93d3176de8a",
   "metadata": {},
   "outputs": [
    {
     "name": "stdout",
     "output_type": "stream",
     "text": [
      "[1 2 3] [[1 2 3]]\n"
     ]
    }
   ],
   "source": [
    "arr = np.array([1,2,3])\n",
    "\n",
    "expanded = np.expand_dims(arr, axis=0)\n",
    "\n",
    "print(arr,expanded)"
   ]
  },
  {
   "cell_type": "markdown",
   "id": "b909d3b1-706c-4947-8037-4f4858457340",
   "metadata": {},
   "source": [
    "axis=0 → Yeni ekseni satır olarak (başta) ekler.\n",
    "\n",
    "axis=1 → Yeni ekseni sütun olarak (ortada) ekler.\n",
    "\n",
    "axis=-1 → Yeni ekseni en sona ekler."
   ]
  },
  {
   "cell_type": "code",
   "execution_count": 6,
   "id": "fae913d1-51f6-403f-8c26-1ed81fd22197",
   "metadata": {},
   "outputs": [
    {
     "name": "stdout",
     "output_type": "stream",
     "text": [
      "[[1]\n",
      " [2]\n",
      " [3]]\n"
     ]
    }
   ],
   "source": [
    "arr = np.array([1,2,3])\n",
    "\n",
    "expanded = np.expand_dims(arr, axis=1)\n",
    "print(expanded)"
   ]
  },
  {
   "cell_type": "code",
   "execution_count": 13,
   "id": "c2c57e0c-c2f4-4b3a-b193-6c2a394cd283",
   "metadata": {},
   "outputs": [
    {
     "name": "stdout",
     "output_type": "stream",
     "text": [
      "[[1]\n",
      " [2]\n",
      " [3]]\n"
     ]
    }
   ],
   "source": [
    "arr = np.array([1,2,3])\n",
    "\n",
    "expanded = np.expand_dims(arr, axis=-1)\n",
    "print(expanded)"
   ]
  },
  {
   "cell_type": "markdown",
   "id": "008b3bf9-5d51-4e9a-b3e3-eeaa330a0792",
   "metadata": {},
   "source": [
    "## Sıkıştırma (np.squeeze())"
   ]
  },
  {
   "cell_type": "code",
   "execution_count": 11,
   "id": "882a0c8d-ecdc-4252-b9a0-6769b82c8876",
   "metadata": {},
   "outputs": [
    {
     "name": "stdout",
     "output_type": "stream",
     "text": [
      "[[[1 2 3]]]\n",
      "[1 2 3]\n"
     ]
    }
   ],
   "source": [
    "arr = np.array([[[1, 2, 3]]])  # 3 boyutlu dizi\n",
    "\n",
    "squeezed = np.squeeze(arr)  \n",
    "\n",
    "print(arr)\n",
    "print(squeezed)"
   ]
  },
  {
   "cell_type": "markdown",
   "id": "6601066e-a66d-45fe-9fdf-876d0a75e84f",
   "metadata": {},
   "source": [
    "## Boyutları Değiştirme (np.resize())"
   ]
  },
  {
   "cell_type": "markdown",
   "id": "54514edc-c2ff-41b8-bcc4-d02e562a8baa",
   "metadata": {},
   "source": [
    "--Eğer reshape() yerine resize() kullanırsanız, eleman sayısı yetmezse tekrar baştan başlatır."
   ]
  },
  {
   "cell_type": "code",
   "execution_count": 121,
   "id": "f5450031-97c6-442c-9869-002892b3c668",
   "metadata": {},
   "outputs": [
    {
     "name": "stdout",
     "output_type": "stream",
     "text": [
      "[[1 2 3]\n",
      " [4 1 2]\n",
      " [3 4 1]]\n"
     ]
    }
   ],
   "source": [
    "arr = np.array([1, 2, 3, 4])\n",
    "\n",
    "resized = np.resize(arr, (3, 3))\n",
    "\n",
    "print(resized)"
   ]
  },
  {
   "cell_type": "markdown",
   "id": "645554cf-96fc-4412-b95f-1ea69e365f57",
   "metadata": {},
   "source": [
    "--reshape() hata verirken, resize() elemanları tekrar kullanır."
   ]
  },
  {
   "cell_type": "code",
   "execution_count": null,
   "id": "0501eab5-df6e-4ce2-b882-501506eb0411",
   "metadata": {},
   "outputs": [],
   "source": []
  }
 ],
 "metadata": {
  "kernelspec": {
   "display_name": "Python 3 (ipykernel)",
   "language": "python",
   "name": "python3"
  },
  "language_info": {
   "codemirror_mode": {
    "name": "ipython",
    "version": 3
   },
   "file_extension": ".py",
   "mimetype": "text/x-python",
   "name": "python",
   "nbconvert_exporter": "python",
   "pygments_lexer": "ipython3",
   "version": "3.9.21"
  }
 },
 "nbformat": 4,
 "nbformat_minor": 5
}
